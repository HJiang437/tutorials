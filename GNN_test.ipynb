{
  "nbformat": 4,
  "nbformat_minor": 0,
  "metadata": {
    "colab": {
      "name": "Untitled4.ipynb",
      "provenance": [],
      "authorship_tag": "ABX9TyNnVtdhGdJLXEGKLRHkDqOW",
      "include_colab_link": true
    },
    "kernelspec": {
      "name": "python3",
      "display_name": "Python 3"
    },
    "language_info": {
      "name": "python"
    }
  },
  "cells": [
    {
      "cell_type": "markdown",
      "metadata": {
        "id": "view-in-github",
        "colab_type": "text"
      },
      "source": [
        "<a href=\"https://colab.research.google.com/github/HJiang437/tutorials/blob/master/GNN_test.ipynb\" target=\"_parent\"><img src=\"https://colab.research.google.com/assets/colab-badge.svg\" alt=\"Open In Colab\"/></a>"
      ]
    },
    {
      "cell_type": "markdown",
      "metadata": {
        "id": "4HoLtKIY-yug"
      },
      "source": [
        "# Check the version of torch and cuda"
      ]
    },
    {
      "cell_type": "code",
      "metadata": {
        "colab": {
          "base_uri": "https://localhost:8080/"
        },
        "id": "hNlrFhgX8dTq",
        "outputId": "74cd5136-16cf-48fd-d446-41f927d2dad6"
      },
      "source": [
        "import torch; print(torch.__version__)\n",
        "import torch; print(torch.version.cuda)"
      ],
      "execution_count": 1,
      "outputs": [
        {
          "output_type": "stream",
          "text": [
            "1.9.0+cu102\n",
            "10.2\n"
          ],
          "name": "stdout"
        }
      ]
    },
    {
      "cell_type": "markdown",
      "metadata": {
        "id": "ig0nVxlB-uO9"
      },
      "source": [
        "# Download the dataset"
      ]
    },
    {
      "cell_type": "code",
      "metadata": {
        "colab": {
          "base_uri": "https://localhost:8080/"
        },
        "id": "s_OgkOCV-uk2",
        "outputId": "cb85225f-03a5-4521-b9d4-3b70c4579b02"
      },
      "source": [
        "!pip install torch-scatter -f https://pytorch-geometric.com/whl/torch-1.9.0+10.2.html\n",
        "!pip install torch-sparse -f https://pytorch-geometric.com/whl/torch-1.9.0+10.2.html\n",
        "!pip install torch-cluster -f https://pytorch-geometric.com/whl/torch-1.9.0+10.2.html\n",
        "!pip install torch-spline-conv -f https://pytorch-geometric.com/whl/torch-1.9.0+10.2.html\n",
        "!pip install torch-geometric"
      ],
      "execution_count": 4,
      "outputs": [
        {
          "output_type": "stream",
          "text": [
            "Looking in links: https://pytorch-geometric.com/whl/torch-1.9.0+10.2.html\n",
            "Collecting torch-scatter\n",
            "  Downloading https://files.pythonhosted.org/packages/fa/d1/0bade0c3b9222710528de0458ad48407dab46efd7ad3d4fd1be82b68ac2b/torch_scatter-2.0.7.tar.gz\n",
            "Building wheels for collected packages: torch-scatter\n",
            "  Building wheel for torch-scatter (setup.py) ... \u001b[?25l\u001b[?25hdone\n",
            "  Created wheel for torch-scatter: filename=torch_scatter-2.0.7-cp37-cp37m-linux_x86_64.whl size=271433 sha256=dccaa7ba59fef5c59f86f78df046325157b9d50eeaae4cbeb997e66c331dd945\n",
            "  Stored in directory: /root/.cache/pip/wheels/d4/47/a3/b454bae87fa5c1631826bc9b15285622675eac6baf4096b484\n",
            "Successfully built torch-scatter\n",
            "Installing collected packages: torch-scatter\n",
            "Successfully installed torch-scatter-2.0.7\n",
            "Looking in links: https://pytorch-geometric.com/whl/torch-1.9.0+10.2.html\n",
            "Collecting torch-sparse\n",
            "  Downloading https://files.pythonhosted.org/packages/c7/49/c97315cd579a19d4e575ca06dd8f79f43c00c9c38658fbe91116cd7909dd/torch_sparse-0.6.10.tar.gz\n",
            "Requirement already satisfied: scipy in /usr/local/lib/python3.7/dist-packages (from torch-sparse) (1.4.1)\n",
            "Requirement already satisfied: numpy>=1.13.3 in /usr/local/lib/python3.7/dist-packages (from scipy->torch-sparse) (1.19.5)\n",
            "Building wheels for collected packages: torch-sparse\n",
            "  Building wheel for torch-sparse (setup.py) ... \u001b[?25l\u001b[?25hdone\n",
            "  Created wheel for torch-sparse: filename=torch_sparse-0.6.10-cp37-cp37m-linux_x86_64.whl size=391664 sha256=e0ec32e5bc286d965171e82a09cb5ee71322baa8b454dc73d913d2ffb9ef4815\n",
            "  Stored in directory: /root/.cache/pip/wheels/4f/f7/04/45b5110d670b6e951625711b0cc237bad4a010fa4ef9e8b6d9\n",
            "Successfully built torch-sparse\n",
            "Installing collected packages: torch-sparse\n",
            "Successfully installed torch-sparse-0.6.10\n",
            "Looking in links: https://pytorch-geometric.com/whl/torch-1.9.0+10.2.html\n",
            "Collecting torch-cluster\n",
            "  Downloading https://files.pythonhosted.org/packages/4b/27/2f38017ae386ba27c13efe6a87eca7c3c58766c3117c86e0fa2c3f7562a9/torch_cluster-1.5.9.tar.gz\n",
            "Building wheels for collected packages: torch-cluster\n",
            "  Building wheel for torch-cluster (setup.py) ... \u001b[?25l\u001b[?25hdone\n",
            "  Created wheel for torch-cluster: filename=torch_cluster-1.5.9-cp37-cp37m-linux_x86_64.whl size=327292 sha256=903517021b6a053a0f009644c33e0edddf5ff1adf040f7dd8a4e1b77065dfc11\n",
            "  Stored in directory: /root/.cache/pip/wheels/bb/06/a4/7c6e240d8c7c17e580f4f58c3995aedbb911a9177b8dd5807a\n",
            "Successfully built torch-cluster\n",
            "Installing collected packages: torch-cluster\n",
            "Successfully installed torch-cluster-1.5.9\n",
            "Looking in links: https://pytorch-geometric.com/whl/torch-1.9.0+10.2.html\n",
            "Collecting torch-spline-conv\n",
            "  Downloading https://files.pythonhosted.org/packages/80/f8/4d010376565c59b3c397b1cf103edc4e9b2ed087c2bbd3677f0a92930d75/torch_spline_conv-1.2.1.tar.gz\n",
            "Building wheels for collected packages: torch-spline-conv\n",
            "  Building wheel for torch-spline-conv (setup.py) ... \u001b[?25l\u001b[?25hdone\n",
            "  Created wheel for torch-spline-conv: filename=torch_spline_conv-1.2.1-cp37-cp37m-linux_x86_64.whl size=130477 sha256=af28728043f539f020b1df13a413c4be0d89553a01c93f2254433a048fd55b56\n",
            "  Stored in directory: /root/.cache/pip/wheels/d0/be/18/3b4ca4ad8295f60bb2cbd9f47708f97ffcf13e9f33bcd88806\n",
            "Successfully built torch-spline-conv\n",
            "Installing collected packages: torch-spline-conv\n",
            "Successfully installed torch-spline-conv-1.2.1\n",
            "Collecting torch-geometric\n",
            "\u001b[?25l  Downloading https://files.pythonhosted.org/packages/91/61/b3f23832120c404673f6759008312ffe8269524a29bf6116d9980e44517b/torch_geometric-1.7.2.tar.gz (222kB)\n",
            "\u001b[K     |████████████████████████████████| 225kB 5.1MB/s \n",
            "\u001b[?25hRequirement already satisfied: numpy in /usr/local/lib/python3.7/dist-packages (from torch-geometric) (1.19.5)\n",
            "Requirement already satisfied: tqdm in /usr/local/lib/python3.7/dist-packages (from torch-geometric) (4.41.1)\n",
            "Requirement already satisfied: scipy in /usr/local/lib/python3.7/dist-packages (from torch-geometric) (1.4.1)\n",
            "Requirement already satisfied: networkx in /usr/local/lib/python3.7/dist-packages (from torch-geometric) (2.5.1)\n",
            "Requirement already satisfied: python-louvain in /usr/local/lib/python3.7/dist-packages (from torch-geometric) (0.15)\n",
            "Requirement already satisfied: scikit-learn in /usr/local/lib/python3.7/dist-packages (from torch-geometric) (0.22.2.post1)\n",
            "Requirement already satisfied: requests in /usr/local/lib/python3.7/dist-packages (from torch-geometric) (2.23.0)\n",
            "Requirement already satisfied: pandas in /usr/local/lib/python3.7/dist-packages (from torch-geometric) (1.1.5)\n",
            "Collecting rdflib\n",
            "\u001b[?25l  Downloading https://files.pythonhosted.org/packages/d0/6b/6454aa1db753c0f8bc265a5bd5c10b5721a4bb24160fb4faf758cf6be8a1/rdflib-5.0.0-py3-none-any.whl (231kB)\n",
            "\u001b[K     |████████████████████████████████| 235kB 8.2MB/s \n",
            "\u001b[?25hRequirement already satisfied: googledrivedownloader in /usr/local/lib/python3.7/dist-packages (from torch-geometric) (0.4)\n",
            "Requirement already satisfied: jinja2 in /usr/local/lib/python3.7/dist-packages (from torch-geometric) (2.11.3)\n",
            "Requirement already satisfied: pyparsing in /usr/local/lib/python3.7/dist-packages (from torch-geometric) (2.4.7)\n",
            "Requirement already satisfied: decorator<5,>=4.3 in /usr/local/lib/python3.7/dist-packages (from networkx->torch-geometric) (4.4.2)\n",
            "Requirement already satisfied: joblib>=0.11 in /usr/local/lib/python3.7/dist-packages (from scikit-learn->torch-geometric) (1.0.1)\n",
            "Requirement already satisfied: chardet<4,>=3.0.2 in /usr/local/lib/python3.7/dist-packages (from requests->torch-geometric) (3.0.4)\n",
            "Requirement already satisfied: idna<3,>=2.5 in /usr/local/lib/python3.7/dist-packages (from requests->torch-geometric) (2.10)\n",
            "Requirement already satisfied: certifi>=2017.4.17 in /usr/local/lib/python3.7/dist-packages (from requests->torch-geometric) (2021.5.30)\n",
            "Requirement already satisfied: urllib3!=1.25.0,!=1.25.1,<1.26,>=1.21.1 in /usr/local/lib/python3.7/dist-packages (from requests->torch-geometric) (1.24.3)\n",
            "Requirement already satisfied: pytz>=2017.2 in /usr/local/lib/python3.7/dist-packages (from pandas->torch-geometric) (2018.9)\n",
            "Requirement already satisfied: python-dateutil>=2.7.3 in /usr/local/lib/python3.7/dist-packages (from pandas->torch-geometric) (2.8.1)\n",
            "Requirement already satisfied: six in /usr/local/lib/python3.7/dist-packages (from rdflib->torch-geometric) (1.15.0)\n",
            "Collecting isodate\n",
            "\u001b[?25l  Downloading https://files.pythonhosted.org/packages/9b/9f/b36f7774ff5ea8e428fdcfc4bb332c39ee5b9362ddd3d40d9516a55221b2/isodate-0.6.0-py2.py3-none-any.whl (45kB)\n",
            "\u001b[K     |████████████████████████████████| 51kB 4.6MB/s \n",
            "\u001b[?25hRequirement already satisfied: MarkupSafe>=0.23 in /usr/local/lib/python3.7/dist-packages (from jinja2->torch-geometric) (2.0.1)\n",
            "Building wheels for collected packages: torch-geometric\n",
            "  Building wheel for torch-geometric (setup.py) ... \u001b[?25l\u001b[?25hdone\n",
            "  Created wheel for torch-geometric: filename=torch_geometric-1.7.2-cp37-none-any.whl size=388143 sha256=3cda2bf81d9c702621a32d9e7e887b60d6e3685c578f5614d8568619f1a0ced8\n",
            "  Stored in directory: /root/.cache/pip/wheels/e7/66/5b/ad17ef7f04b7c425dc6930daac160c3747231b0d65f9ac7972\n",
            "Successfully built torch-geometric\n",
            "Installing collected packages: isodate, rdflib, torch-geometric\n",
            "Successfully installed isodate-0.6.0 rdflib-5.0.0 torch-geometric-1.7.2\n"
          ],
          "name": "stdout"
        }
      ]
    },
    {
      "cell_type": "markdown",
      "metadata": {
        "id": "3MusF6YsLO50"
      },
      "source": [
        "# Nodes settings\n",
        "1.   Nodes: the three cirles denoted by index numbered 0,1,2;\n",
        "2.   Atrributes: the value if each node x1;\n",
        "3.   Edges: the lines connecting the different nodes;"
      ]
    },
    {
      "cell_type": "code",
      "metadata": {
        "id": "zUBapy44IpAn"
      },
      "source": [
        "import torch\n",
        "from torch_geometric.data import Data\n",
        "\n",
        "edge_index=torch.tensor([[0,1,1,2],\n",
        "                         [1,0,2,1]],dtype=torch.long) # Origin and Destination nodes\n",
        "x=torch.tensor([[-1],[0],[1]],dtype=torch.float) \n",
        "\n",
        "data=Data(x=x,edge_index=edge_index)"
      ],
      "execution_count": 7,
      "outputs": []
    },
    {
      "cell_type": "code",
      "metadata": {
        "colab": {
          "base_uri": "https://localhost:8080/"
        },
        "id": "CWX6r4qJMG8P",
        "outputId": "b8142446-abda-48a8-8fa0-1c0cf39faf5d"
      },
      "source": [
        "print(data.num_nodes) # the number of nodes in the graph\n",
        "print(data.num_edges) # the number of edges\n",
        "print(data.num_edge_features) # number of attributes\n",
        "print(data.contains_isolated_nodes()) # whether the graph contains any isolated nodes"
      ],
      "execution_count": 9,
      "outputs": [
        {
          "output_type": "stream",
          "text": [
            "3\n",
            "4\n",
            "0\n",
            "False\n"
          ],
          "name": "stdout"
        }
      ]
    },
    {
      "cell_type": "markdown",
      "metadata": {
        "id": "-hf3GoknMtAg"
      },
      "source": [
        "# Training and evaluating simple GNNs using PyG"
      ]
    },
    {
      "cell_type": "code",
      "metadata": {
        "id": "jzDLWp3oMr8E"
      },
      "source": [
        "from torch_geometric.datasets import Planetoid\n",
        "dataset=Planetoid(root='/tmp/Cora', name='Cora')"
      ],
      "execution_count": 15,
      "outputs": []
    },
    {
      "cell_type": "markdown",
      "metadata": {
        "id": "oGT3tNfXN1NQ"
      },
      "source": [
        "# Build Net with PyTorch"
      ]
    },
    {
      "cell_type": "code",
      "metadata": {
        "id": "uI9E1KRuOSLQ"
      },
      "source": [
        "import torch \n",
        "import torch.nn.functional as F\n",
        "from torch_geometric.nn import GCNConv\n",
        "\n",
        "class Net(torch.nn.Module):\n",
        "  def __init__(self):\n",
        "    super(Net,self).__init__()\n",
        "    self.conv1=GCNConv(dataset.num_node_features,16)\n",
        "    self.conv2=GCNConv(16, dataset.num_classes)\n",
        "  \n",
        "  def forward(self, data):\n",
        "    x, edge_index=data.x, data.edge_index\n",
        "    x = self.conv1(x, edge_index) \n",
        "    x = F.relu(x)\n",
        "    x = F.dropout(x, training=self.training)\n",
        "    x = self.conv2(x, edge_index)\n",
        "\n",
        "    return F.log_softmax(x, dim=1)"
      ],
      "execution_count": 16,
      "outputs": []
    },
    {
      "cell_type": "code",
      "metadata": {
        "id": "Rp1RkyEqTugq"
      },
      "source": [
        "model=Net()\n",
        "data=dataset[0]\n",
        "optimizer=torch.optim.Adam(model.parameters(), lr=0.01, weight_decay=5e-4)\n",
        "\n",
        "model.train()\n",
        "\n",
        "for epoch in range(200):\n",
        "  optimizer.zero_grad()\n",
        "  out=model(data)\n",
        "  loss=F.nll_loss(out[data.train_mask],data.y[data.train_mask])\n",
        "  loss.backward()\n",
        "  optimizer.step()"
      ],
      "execution_count": 19,
      "outputs": []
    },
    {
      "cell_type": "markdown",
      "metadata": {
        "id": "VuclKxkmW0BO"
      },
      "source": [
        "# Evaluation"
      ]
    },
    {
      "cell_type": "code",
      "metadata": {
        "colab": {
          "base_uri": "https://localhost:8080/"
        },
        "id": "GyE7n-mJWzi5",
        "outputId": "885c2f3b-75ae-4b32-fc6d-be7c14060cc4"
      },
      "source": [
        "model.eval()\n",
        "_, pred = model(data).max(dim=1)\n",
        "correct = int(pred[data.test_mask].eq(data.y[data.test_mask]).sum().item())\n",
        "acc = correct / int(data.test_mask.sum())\n",
        "print('Accuracy: {:.4f}'.format(acc))"
      ],
      "execution_count": 20,
      "outputs": [
        {
          "output_type": "stream",
          "text": [
            "Accuracy: 0.8020\n"
          ],
          "name": "stdout"
        }
      ]
    }
  ]
}